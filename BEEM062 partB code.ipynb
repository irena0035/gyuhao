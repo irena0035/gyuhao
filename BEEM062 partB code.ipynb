{
 "cells": [
  {
   "cell_type": "code",
   "execution_count": 1,
   "id": "dd70aa4c",
   "metadata": {},
   "outputs": [
    {
     "name": "stdout",
     "output_type": "stream",
     "text": [
      "Requirement already satisfied: quandl in ./opt/anaconda3/lib/python3.9/site-packages (3.7.0)\n",
      "Requirement already satisfied: inflection>=0.3.1 in ./opt/anaconda3/lib/python3.9/site-packages (from quandl) (0.5.1)\n",
      "Requirement already satisfied: numpy>=1.8 in ./opt/anaconda3/lib/python3.9/site-packages (from quandl) (1.21.5)\n",
      "Requirement already satisfied: python-dateutil in ./opt/anaconda3/lib/python3.9/site-packages (from quandl) (2.8.2)\n",
      "Requirement already satisfied: pandas>=0.14 in ./opt/anaconda3/lib/python3.9/site-packages (from quandl) (1.4.2)\n",
      "Requirement already satisfied: more-itertools in ./opt/anaconda3/lib/python3.9/site-packages (from quandl) (9.1.0)\n",
      "Requirement already satisfied: six in ./opt/anaconda3/lib/python3.9/site-packages (from quandl) (1.16.0)\n",
      "Requirement already satisfied: requests>=2.7.0 in ./opt/anaconda3/lib/python3.9/site-packages (from quandl) (2.27.1)\n",
      "Requirement already satisfied: pytz>=2020.1 in ./opt/anaconda3/lib/python3.9/site-packages (from pandas>=0.14->quandl) (2021.3)\n",
      "Requirement already satisfied: certifi>=2017.4.17 in ./opt/anaconda3/lib/python3.9/site-packages (from requests>=2.7.0->quandl) (2021.10.8)\n",
      "Requirement already satisfied: charset-normalizer~=2.0.0 in ./opt/anaconda3/lib/python3.9/site-packages (from requests>=2.7.0->quandl) (2.0.4)\n",
      "Requirement already satisfied: urllib3<1.27,>=1.21.1 in ./opt/anaconda3/lib/python3.9/site-packages (from requests>=2.7.0->quandl) (1.26.9)\n",
      "Requirement already satisfied: idna<4,>=2.5 in ./opt/anaconda3/lib/python3.9/site-packages (from requests>=2.7.0->quandl) (3.3)\n",
      "\n",
      "\u001b[1m[\u001b[0m\u001b[34;49mnotice\u001b[0m\u001b[1;39;49m]\u001b[0m\u001b[39;49m A new release of pip available: \u001b[0m\u001b[31;49m22.3.1\u001b[0m\u001b[39;49m -> \u001b[0m\u001b[32;49m23.1.2\u001b[0m\n",
      "\u001b[1m[\u001b[0m\u001b[34;49mnotice\u001b[0m\u001b[1;39;49m]\u001b[0m\u001b[39;49m To update, run: \u001b[0m\u001b[32;49mpip install --upgrade pip\u001b[0m\n"
     ]
    }
   ],
   "source": [
    "!pip install quandl"
   ]
  },
  {
   "cell_type": "code",
   "execution_count": 5,
   "id": "db262747",
   "metadata": {},
   "outputs": [
    {
     "name": "stdout",
     "output_type": "stream",
     "text": [
      "Requirement already satisfied: cryptocompare in ./opt/anaconda3/lib/python3.9/site-packages (0.7.6)\n",
      "Requirement already satisfied: requests in ./opt/anaconda3/lib/python3.9/site-packages (from cryptocompare) (2.27.1)\n",
      "Requirement already satisfied: certifi>=2017.4.17 in ./opt/anaconda3/lib/python3.9/site-packages (from requests->cryptocompare) (2021.10.8)\n",
      "Requirement already satisfied: charset-normalizer~=2.0.0 in ./opt/anaconda3/lib/python3.9/site-packages (from requests->cryptocompare) (2.0.4)\n",
      "Requirement already satisfied: urllib3<1.27,>=1.21.1 in ./opt/anaconda3/lib/python3.9/site-packages (from requests->cryptocompare) (1.26.9)\n",
      "Requirement already satisfied: idna<4,>=2.5 in ./opt/anaconda3/lib/python3.9/site-packages (from requests->cryptocompare) (3.3)\n",
      "\n",
      "\u001b[1m[\u001b[0m\u001b[34;49mnotice\u001b[0m\u001b[1;39;49m]\u001b[0m\u001b[39;49m A new release of pip available: \u001b[0m\u001b[31;49m22.3.1\u001b[0m\u001b[39;49m -> \u001b[0m\u001b[32;49m23.1.2\u001b[0m\n",
      "\u001b[1m[\u001b[0m\u001b[34;49mnotice\u001b[0m\u001b[1;39;49m]\u001b[0m\u001b[39;49m To update, run: \u001b[0m\u001b[32;49mpip install --upgrade pip\u001b[0m\n",
      "Note: you may need to restart the kernel to use updated packages.\n"
     ]
    }
   ],
   "source": [
    "pip install cryptocompare"
   ]
  },
  {
   "cell_type": "code",
   "execution_count": 6,
   "id": "baab7e76",
   "metadata": {},
   "outputs": [],
   "source": [
    "import requests \n",
    "import pandas as pd\n",
    "import quandl\n",
    "from datetime import datetime\n",
    "\n",
    "# Define financial data parameters\n",
    "xt_dataset_code = 'FRED/FEDFUNDS'\n",
    "yt_fsym = 'BTC'\n",
    "yt_tsym = 'USD'\n",
    "yt_api_key = 'hC2PHkLKcHsPzxPRcBwK'  # replace with your API key"
   ]
  },
  {
   "cell_type": "code",
   "execution_count": 15,
   "id": "a4b16266",
   "metadata": {},
   "outputs": [
    {
     "name": "stdout",
     "output_type": "stream",
     "text": [
      "            Value\n",
      "Date             \n",
      "2016-01-01   0.34\n",
      "2016-02-01   0.38\n",
      "2016-03-01   0.36\n",
      "2016-04-01   0.37\n",
      "2016-05-01   0.37\n",
      "...           ...\n",
      "2020-09-01   0.09\n",
      "2020-10-01   0.09\n",
      "2020-11-01   0.09\n",
      "2020-12-01   0.09\n",
      "2021-01-01   0.09\n",
      "\n",
      "[61 rows x 1 columns]\n"
     ]
    }
   ],
   "source": [
    "start_date = '2016-01-01'\n",
    "end_date = '2021-01-01'\n",
    "xt_data = quandl.get(xt_dataset_code, start_date=start_date, end_date=end_date, column_index=1)\n",
    "print(xt_data)"
   ]
  },
  {
   "cell_type": "code",
   "execution_count": 16,
   "id": "d1bb6649",
   "metadata": {},
   "outputs": [],
   "source": [
    "# Fetch financial data from CryptoCompare\n",
    "url = \"https://min-api.cryptocompare.com/data/v2/histoday\"\n",
    "data_format = '%Y-%m-%d'\n",
    "days = (datetime.strptime(end_date, data_format) - datetime.strptime(start_date, data_format)).days\n",
    "params = {\n",
    "    'fsym': yt_fsym,\n",
    "    'tsym': yt_tsym,\n",
    "    'limit': days,\n",
    "    'toTs': int(datetime.strptime(end_date, data_format).timestamp()),\n",
    "    'api_key': yt_api_key\n",
    "}"
   ]
  },
  {
   "cell_type": "code",
   "execution_count": 17,
   "id": "5fe7f808",
   "metadata": {},
   "outputs": [],
   "source": [
    "response = requests.get(url, params=params)\n",
    "response_json = response.json()"
   ]
  },
  {
   "cell_type": "code",
   "execution_count": 18,
   "id": "9c0b2dc0",
   "metadata": {},
   "outputs": [],
   "source": [
    "yt_data_raw = response_json['Data']['Data']\n",
    "yt_data = pd.DataFrame.from_records(yt_data_raw)\n",
    "yt_data['time'] = pd.to_datetime(yt_data['time'], unit='s')\n",
    "yt_data.set_index('time', inplace=True)\n",
    "yt_data = yt_data[['close']]\n",
    "data = xt_data.join(yt_data, how='inner')"
   ]
  },
  {
   "cell_type": "code",
   "execution_count": 19,
   "id": "3282967b",
   "metadata": {
    "scrolled": true
   },
   "outputs": [
    {
     "name": "stdout",
     "output_type": "stream",
     "text": [
      "2016-01-01      433.99\n",
      "2016-02-01      372.18\n",
      "2016-03-01      434.04\n",
      "2016-04-01      415.64\n",
      "2016-05-01      452.24\n",
      "                ...   \n",
      "2020-09-01    11926.69\n",
      "2020-10-01    10622.79\n",
      "2020-11-01    13761.72\n",
      "2020-12-01    18792.03\n",
      "2021-01-01    29388.94\n",
      "Name: close, Length: 61, dtype: float64\n"
     ]
    }
   ],
   "source": [
    "yt_data = data['close']\n",
    "print(yt_data)"
   ]
  },
  {
   "cell_type": "code",
   "execution_count": 20,
   "id": "53f351df",
   "metadata": {},
   "outputs": [],
   "source": [
    "data= xt_data.join(yt_data, how= 'inner')\n",
    "xt= data.iloc[:,0].values\n",
    "yt= data.iloc[:,1].values"
   ]
  },
  {
   "cell_type": "code",
   "execution_count": 21,
   "id": "e44b1fb5",
   "metadata": {},
   "outputs": [],
   "source": [
    "import numpy as np\n",
    "xt=np.array(xt)\n",
    "yt=np.array(yt)\n",
    "\n",
    "x_mean=np.mean(xt)\n",
    "y_mean= np.mean(yt)"
   ]
  },
  {
   "cell_type": "code",
   "execution_count": 22,
   "id": "525276bd",
   "metadata": {},
   "outputs": [],
   "source": [
    "numerator = np.sum((xt-x_mean)*(yt-y_mean))\n",
    "denominator=np.sum((xt-x_mean)**2)"
   ]
  },
  {
   "cell_type": "code",
   "execution_count": 23,
   "id": "0c953931",
   "metadata": {},
   "outputs": [],
   "source": [
    "beta=numerator/denominator\n",
    "alpha=y_mean-beta*x_mean"
   ]
  },
  {
   "cell_type": "code",
   "execution_count": 24,
   "id": "c5ee3a8b",
   "metadata": {},
   "outputs": [
    {
     "name": "stdout",
     "output_type": "stream",
     "text": [
      "Alpha:6219.797367050046\n",
      "Beta:58.83724162257572\n"
     ]
    }
   ],
   "source": [
    "print(f\"Alpha:{alpha}\")\n",
    "print(f\"Beta:{beta}\")"
   ]
  },
  {
   "cell_type": "code",
   "execution_count": 25,
   "id": "2bc08244",
   "metadata": {},
   "outputs": [],
   "source": [
    "def gradient_descent(x, y, alpha=0.001, beta=0.001, learning_rate=0.001, num_iterations=1000):\n",
    "    n = len(x)\n",
    "    for _ in range(num_iterations):\n",
    "        y_predicted= alpha+beta*x\n",
    "        d_alpha=-(2/n)*np.sum(y-y_predicted)\n",
    "        d_beta=-(2/n)*np.sum(x*(y-y_predicted))\n",
    "        alpha=learning_rate*d_alpha\n",
    "        beta=learning_rate*d_beta\n",
    "    return alpha,beta\n",
    "alpha_gd,beta_gd=gradient_descent(xt,yt)"
   ]
  },
  {
   "cell_type": "code",
   "execution_count": 26,
   "id": "d03276e7",
   "metadata": {},
   "outputs": [
    {
     "name": "stdout",
     "output_type": "stream",
     "text": [
      "Alpha:-12.631191886831406\n",
      "Beta:-14.43269559880266\n"
     ]
    }
   ],
   "source": [
    "print(f\"Alpha:{alpha_gd}\")\n",
    "print(f\"Beta:{beta_gd}\")"
   ]
  },
  {
   "cell_type": "markdown",
   "id": "1bc6f6b6",
   "metadata": {},
   "source": [
    "Stochastic Gradient Descent (SGD) is another variant of Gradient Descent. When the dataset is sufficiently large and computing the gradient across the full dataset would be computationally expensive, SGD is utilised. Based on the gradient of the loss function for each sample in the dataset, SGD modifies the model's parameters. In comparison to batch gradient descent, this leads to faster convergence and reduced memory needs, but it can be noisier and take more iterations to converge to a minimum.\n",
    "\n",
    "Convergence to a loss function minimum could be challenging to achieve in practise for a number of different reasons.  The occurrence of local minima, where the optimisation algorithm becomes stuck in a poor solution, is a typical problem.  The existence of saddle points, when the gradient is almost zero in all directions, is another problem, making it challenging to identify the direction of the steepest fall.  The optimisation landscape can also not be convex and contain a lot of flat sections, which would hinder convergence.\n",
    "\n",
    "To overcome these issues, several techniques have been developed, such as using momentum to accelerate convergence, adaptive learning rate methods to adjust the step size based on the curvature of the loss function, and regularization techniques such as L1/L2 regularization and dropout to prevent overfitting. Additionally, using more advanced optimization techniques such as Adam and Adagrad can also improve convergence to a minimum. In practice, it is often necessary to experiment with different optimization techniques and hyperparameters to find the optimal solution.\n",
    "\n",
    "\n"
   ]
  },
  {
   "cell_type": "markdown",
   "id": "0404582e",
   "metadata": {},
   "source": [
    "question 3"
   ]
  },
  {
   "cell_type": "markdown",
   "id": "7471f790",
   "metadata": {},
   "source": [
    "1.\n",
    "\n",
    "Bitcoin is not Turing complete according to the mainstream view. This is because it has limited scripting language capabilities, which can only support a set of predetermined functions. These functions are designed to ensure the security and consistency of the Bitcoin network by enforcing rules such as limiting the number of bitcoins that can be created, verifying transactions, and preventing double-spending.\n",
    "\n",
    "Ian Grigg, in his paper \"Financial Cryptography in 7 Layers,\" argues that Bitcoin is Turing complete. Grigg believes that the script language used by Bitcoin, which is based on the Forth programming language, is sufficiently flexible to allow for the implementation of any computation. He notes that while some operations are limited, they can be overcome through creative programming.\n",
    "\n",
    "However, the majority of mainstream computer science specialists do not share Grigg's perspective. Critics claim that Turing completeness isn't achieved by Bitcoin's scripting language because it lacks key components like conditional branching and looping, which enable complicated calculations. The limited stack size and defined execution constraints also place additional restrictions on the language's possibilities.\n",
    "\n",
    "I believe that Bitcoin is not Turing complete.Even while there may be certain computations that can be done within the limitations of the scripting language, these are few and insufficient to satisfy the requirements of Turing completeness. \n",
    "\n",
    "In general, experts are still debating the Turing completeness of Bitcoin and researching the strengths and weaknesses of the scripting language.\n",
    "\n",
    "\n",
    "\n"
   ]
  },
  {
   "cell_type": "markdown",
   "id": "c5d40bac",
   "metadata": {},
   "source": [
    "2.\n",
    "\n",
    "Traditional chatbots and ChatGPT are different in a number of ways.  First off, ChatGPT is based on the GPT-3.5 architecture, a cutting-edge language model that can provide responses that are human-like for a variety of inputs.  The ability of classic chatbots to handle complicated or unexpected inputs is constrained because they rely on rules-based or decision-tree techniques.  Second, ChatGPT has a wide knowledge base that it can use to construct responses because it was trained on a sizable corpus of text data.  Traditional chatbots, on the other hand, are frequently trained on a smaller range of data and may have trouble with new or obscure topics. Finally, ChatGPT can learn and adapt over time based on user interactions, whereas traditional chatbots are typically static and do not improve with use.\n",
    "\n",
    "The potential benefits of using a large language model like ChatGPT for conversational AI are significant. To begin with, compared to standard chatbots, ChatGPT can produce responses that are more interesting and natural-sounding, which can increase user happiness and engagement.  Furthermore, ChatGPT is more adaptable than conventional chatbots since it can handle a variety of themes and inputs. Addtionally , ChatGPT has the capacity to grow and change with use, enhancing both its efficiency and accuracy.\n",
    "\n",
    "\n",
    "However, there are also potential drawbacks to using a large language model like ChatGPT for conversational AI.  Initially, ChatGPT may produce offensive or biased responses as a result of its training data, which might undermine user confidence and reputation.  Moreover, ChatGPT can be resource-intensive, necessitating a lot of processing power and storage to function properly.  Finally, ChatGPT's accuracy and dependability may be jeopardised by malicious assaults such as data poisoning or adversarial inputs.\n",
    "\n",
    "\n",
    "\n",
    "\n",
    "\n",
    "\n",
    "\n",
    "\n"
   ]
  },
  {
   "cell_type": "markdown",
   "id": "eeac53d2",
   "metadata": {},
   "source": [
    "3.\n",
    "\n",
    "Blockchain technology has been proposed as a potential solution to some of the systemic problems that can arise from AI, particularly in the areas of transparency, accountability, and data privacy.   Ian Grigg, in his paper \"Financial Cryptography in 7 Layers,\" discusses the use of blockchain technology to create \"smart contracts\" that can facilitate automated transactions and enforce rules and regulations in a transparent and secure manner.\n",
    "\n",
    "Increased transparency is one of the key advantages of combining AI and blockchain technology.It is now possible to track and verify the origin and use of data by documenting all transactions and data inputs on a distributed ledger, guaranteeing that AI systems are functioning within moral and legal bounds. By enabling the development of audit trails and accountability procedures that may be used to recognise and address problems with bias, inaccuracy, or wrongdoing, blockchain technology can also promote more accountability.\n",
    "\n",
    "However, there are also some limitations to the use of blockchain technology in the context of AI. For example, blockchain technology can be computationally expensive, which can limit its scalability and usability for large-scale AI systems.   Additionally, blockchain technology may not be well-suited for all types of AI applications, particularly those that require real-time processing or decision-making.\n",
    "\n",
    "In conclusion, while blockchain technology has the potential to address some of the systemic issues related to AI, its success will depend on a variety of variables, including the particular use case, the design of the blockchain system, and the accessibility of computational resources.   To fully comprehend the potential advantages and disadvantages of utilising blockchain technology for AI, as well as to establish best practices for its application, more investigation and development will be required.\n",
    "\n",
    "\n",
    "\n",
    "\n",
    "\n"
   ]
  },
  {
   "cell_type": "markdown",
   "id": "9e8bdcb2",
   "metadata": {},
   "source": [
    "question 4"
   ]
  },
  {
   "cell_type": "markdown",
   "id": "4eafbcd0",
   "metadata": {},
   "source": [
    "I have chosen to analyze the daily closing price of the S&P 500 Index from January 1, 2010, to April 1, 2023. I have chosen this financial time series because the S&P 500 Index is widely used as a benchmark for the overall performance of the US stock market. The S&P 500 Index includes 500 large-cap stocks traded in the US and has a broad representation of the economy, including sectors such as technology, healthcare, finance, and energy.\n",
    "\n",
    "The S&P 500 Index is impacted by a number of variables, including macroeconomic ones like GDP growth, interest rates, and macroeconomic variables like inflation. Corporate earnings, investor sentiment, geopolitical developments, and global market movements are other crucial variables. The performance of certain index firms also has a big impact on the index's overall performance. In general, the S&P 500 Index tends to increase when corporations post great results or when there is good news about the economy, and vice versa."
   ]
  },
  {
   "cell_type": "code",
   "execution_count": 27,
   "id": "f5e16773",
   "metadata": {},
   "outputs": [],
   "source": [
    "import pandas as pd\n",
    "import numpy as np\n",
    "import quandl\n",
    "\n",
    "# Load S&P 500 Index data\n",
    "quandl.ApiConfig.api_key ='hC2PHkLKcHsPzxPRcBwK'\n",
    "data = quandl.get(\"MULTPL/SP500_REAL_PRICE_MONTH\")\n",
    "\n",
    "# Resample to daily frequency\n",
    "data = data.resample('D').last().fillna(method='ffill')"
   ]
  },
  {
   "cell_type": "code",
   "execution_count": 28,
   "id": "3b204528",
   "metadata": {},
   "outputs": [],
   "source": [
    "data['Returns'] = data['Value'].pct_change()"
   ]
  },
  {
   "cell_type": "code",
   "execution_count": 29,
   "id": "67f07c63",
   "metadata": {},
   "outputs": [],
   "source": [
    "data['Returns_Lag1'] = data['Returns'].shift(1)\n",
    "data['Returns_Lag2'] = data['Returns'].shift(2)\n",
    "data['Returns_Lag3'] = data['Returns'].shift(3)"
   ]
  },
  {
   "cell_type": "code",
   "execution_count": 30,
   "id": "1abbeaa4",
   "metadata": {},
   "outputs": [],
   "source": [
    "data['Returns_Rolling5'] = data['Returns'].rolling(5).mean().shift(1)\n",
    "data['Returns_Rolling10'] = data['Returns'].rolling(10).mean().shift(1)\n",
    "data['Returns_Rolling20'] = data['Returns'].rolling(20).mean().shift(1)"
   ]
  },
  {
   "cell_type": "code",
   "execution_count": 31,
   "id": "19eca37c",
   "metadata": {},
   "outputs": [],
   "source": [
    "data['Value_Rolling20'] = data['Value'].rolling(20).mean().shift(1)\n",
    "data['Value_Rolling50'] = data['Value'].rolling(50).mean().shift(1)"
   ]
  },
  {
   "cell_type": "code",
   "execution_count": 32,
   "id": "e951413b",
   "metadata": {},
   "outputs": [],
   "source": [
    "data = data.dropna()\n",
    "X = data.drop(['Value', 'Returns'], axis=1)\n",
    "y = data['Returns']\n",
    "split = int"
   ]
  },
  {
   "cell_type": "code",
   "execution_count": 33,
   "id": "5499e30b",
   "metadata": {},
   "outputs": [
    {
     "name": "stdout",
     "output_type": "stream",
     "text": [
      "            Returns_Lag1  Returns_Lag2  Returns_Lag3  Returns_Rolling5  \\\n",
      "Date                                                                     \n",
      "1871-02-20      0.000000           0.0           0.0          0.000000   \n",
      "1871-02-21      0.000000           0.0           0.0          0.000000   \n",
      "1871-02-22      0.000000           0.0           0.0          0.000000   \n",
      "1871-02-23      0.000000           0.0           0.0          0.000000   \n",
      "1871-02-24      0.000000           0.0           0.0          0.000000   \n",
      "...                  ...           ...           ...               ...   \n",
      "2023-03-28      0.000000           0.0           0.0          0.000000   \n",
      "2023-03-29      0.000000           0.0           0.0          0.000000   \n",
      "2023-03-30      0.000000           0.0           0.0          0.000000   \n",
      "2023-03-31      0.000000           0.0           0.0          0.000000   \n",
      "2023-04-01      0.035466           0.0           0.0          0.007093   \n",
      "\n",
      "            Returns_Rolling10  Returns_Rolling20  Value_Rolling20  \\\n",
      "Date                                                                \n",
      "1871-02-20           0.000000           0.000676           4.4970   \n",
      "1871-02-21           0.000000           0.000676           4.5000   \n",
      "1871-02-22           0.000000           0.000000           4.5000   \n",
      "1871-02-23           0.000000           0.000000           4.5000   \n",
      "1871-02-24           0.000000           0.000000           4.5000   \n",
      "...                       ...                ...              ...   \n",
      "2023-03-28           0.000000           0.000000        3968.5600   \n",
      "2023-03-29           0.000000           0.000000        3968.5600   \n",
      "2023-03-30           0.000000           0.000000        3968.5600   \n",
      "2023-03-31           0.000000           0.000000        3968.5600   \n",
      "2023-04-01           0.003547           0.001773        3975.5975   \n",
      "\n",
      "            Value_Rolling50  \n",
      "Date                         \n",
      "1871-02-20           4.4628  \n",
      "1871-02-21           4.4640  \n",
      "1871-02-22           4.4652  \n",
      "1871-02-23           4.4664  \n",
      "1871-02-24           4.4676  \n",
      "...                     ...  \n",
      "2023-03-28        4017.4846  \n",
      "2023-03-29        4015.2622  \n",
      "2023-03-30        4013.0398  \n",
      "2023-03-31        4010.8174  \n",
      "2023-04-01        4011.4100  \n",
      "\n",
      "[55558 rows x 8 columns]\n",
      "Date\n",
      "1871-02-20    0.000000\n",
      "1871-02-21    0.000000\n",
      "1871-02-22    0.000000\n",
      "1871-02-23    0.000000\n",
      "1871-02-24    0.000000\n",
      "                ...   \n",
      "2023-03-28    0.000000\n",
      "2023-03-29    0.000000\n",
      "2023-03-30    0.000000\n",
      "2023-03-31    0.035466\n",
      "2023-04-01    0.003699\n",
      "Freq: D, Name: Returns, Length: 55558, dtype: float64\n"
     ]
    }
   ],
   "source": [
    "print(X)\n",
    "print(y)"
   ]
  }
 ],
 "metadata": {
  "kernelspec": {
   "display_name": "Python 3 (ipykernel)",
   "language": "python",
   "name": "python3"
  },
  "language_info": {
   "codemirror_mode": {
    "name": "ipython",
    "version": 3
   },
   "file_extension": ".py",
   "mimetype": "text/x-python",
   "name": "python",
   "nbconvert_exporter": "python",
   "pygments_lexer": "ipython3",
   "version": "3.9.12"
  }
 },
 "nbformat": 4,
 "nbformat_minor": 5
}
